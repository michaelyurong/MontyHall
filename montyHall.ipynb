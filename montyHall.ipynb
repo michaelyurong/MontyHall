{
 "cells": [
  {
   "cell_type": "markdown",
   "id": "560cb14b",
   "metadata": {},
   "source": [
    "# A very simple version solution"
   ]
  },
  {
   "cell_type": "code",
   "execution_count": 4,
   "id": "9c62d5ad",
   "metadata": {},
   "outputs": [
    {
     "name": "stdout",
     "output_type": "stream",
     "text": [
      "selection1=Insist is,  0.33150331503315034\n",
      "selection2=Switch is,  0.6684966849668497\n"
     ]
    }
   ],
   "source": [
    "# basically there are only three situations, 100, 010, 001 with first digit being round 1 selection \n",
    "# and last two digits being round 2 selection\n",
    "# s1 refers as selection 1 insist\n",
    "# s2 refers as selection 2 switch\n",
    "\n",
    "from random import choice\n",
    "from random import randrange\n",
    "s1, s2 = 0,0 \n",
    "for i in range(99999):\n",
    "    doors = ['A','B','C']\n",
    "    winning_door = choice(doors)\n",
    "    first_choice = doors.pop(randrange(3))\n",
    "    if winning_door == first_choice:\n",
    "        s1 += 1\n",
    "    else:\n",
    "        s2 += 1\n",
    "        \n",
    "print('selection1=Insist is, ', s1/99999)\n",
    "print('selection2=Switch is, ', s2/99999)"
   ]
  },
  {
   "cell_type": "markdown",
   "id": "0b47bb07",
   "metadata": {},
   "source": [
    "# A slightly harder version"
   ]
  },
  {
   "cell_type": "code",
   "execution_count": 8,
   "id": "05ec03ca",
   "metadata": {},
   "outputs": [
    {
     "name": "stdout",
     "output_type": "stream",
     "text": [
      "(0.3244444444444444, 0.6755555555555556)\n"
     ]
    }
   ],
   "source": [
    "import random\n",
    "def montyHall(n):\n",
    "    s1, s2 = 0,0\n",
    "    for i in range(n):\n",
    "        gate = [0,0,0]\n",
    "        gate[random.randint(0,2)] = 1\n",
    "        a = random.randint(0,2)\n",
    "        b = random.randint(0,2)\n",
    "        while a == b or gate[b] == 1:\n",
    "            b = random.randint(0,2)\n",
    "        if gate[a] == 1:\n",
    "            s1 += 1 #坚持first choice\n",
    "        else:\n",
    "            s2 += 1 #switch\n",
    "    return s1 / (n), s2/(n)\n",
    "\n",
    "print(montyHall(900))"
   ]
  },
  {
   "cell_type": "markdown",
   "id": "ce6da78d",
   "metadata": {},
   "source": [
    "# An unfinished version"
   ]
  },
  {
   "cell_type": "code",
   "execution_count": 12,
   "id": "2191b640",
   "metadata": {},
   "outputs": [
    {
     "name": "stdout",
     "output_type": "stream",
     "text": [
      "winning_door is C\n",
      "first_choice is C\n",
      "['A', 'B']\n"
     ]
    }
   ],
   "source": [
    "from random import randrange\n",
    "contestant_switches = True\n",
    "doors = ['A','B','C']\n",
    "winning_door = choice(doors)\n",
    "print('winning_door is', winning_door)\n",
    "first_choice = doors.pop(randrange(3))\n",
    "print('first_choice is', first_choice)\n",
    "print(doors)\n",
    "doors = ['A','B','C']\n",
    "winning_door = choice(doors)\n",
    "first_choice = doors.pop(randrange(3))\n",
    "if not contestant_switches:\n",
    "    second_choice = first_choice\n",
    "if first_choice == winning_door:\n",
    "    opened_door = doors.pop(randrange(2))\n",
    "    if contestant_switches:\n",
    "        second_choice = doors[0]\n",
    "else:\n",
    "    doors.remove(winning_door)\n",
    "    opened_door = doors[0]\n",
    "    if contestant_switches:\n",
    "        second_choice = winning_door"
   ]
  },
  {
   "cell_type": "code",
   "execution_count": null,
   "id": "6a117a85",
   "metadata": {},
   "outputs": [],
   "source": []
  }
 ],
 "metadata": {
  "kernelspec": {
   "display_name": "Python 3 (ipykernel)",
   "language": "python",
   "name": "python3"
  },
  "language_info": {
   "codemirror_mode": {
    "name": "ipython",
    "version": 3
   },
   "file_extension": ".py",
   "mimetype": "text/x-python",
   "name": "python",
   "nbconvert_exporter": "python",
   "pygments_lexer": "ipython3",
   "version": "3.12.2"
  }
 },
 "nbformat": 4,
 "nbformat_minor": 5
}
